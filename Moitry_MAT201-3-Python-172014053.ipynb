{
 "cells": [
  {
   "cell_type": "code",
   "execution_count": 17,
   "metadata": {},
   "outputs": [
    {
     "name": "stdout",
     "output_type": "stream",
     "text": [
      "Product name: Fooods\n",
      "Price: 600\n",
      "Product name: 200\n",
      "Price: 800\n",
      "Product name: snacks\n",
      "Price: 56\n",
      "Product name: done\n",
      "What is the price of snaks\n",
      "None\n",
      "None\n"
     ]
    }
   ],
   "source": [
    "#LECTURE-4(1)1. Write a program that repeatedly asks the user to enter product names and prices. Store all of these in a dictionary whose keys are the product names and whose values are the prices. When the user is done entering products and prices, allow them to repeatedly enter a product name and print the corresponding price or a message if the product is not in the dictionary.\n",
    "\n",
    "dict = {}\n",
    "\n",
    "while True:\n",
    "    x = input(\"Product name: \")\n",
    "    if x == \"done\":\n",
    "        break\n",
    "    y = input(\"Price: \")\n",
    "    dict[x] = y\n",
    "while True:\n",
    "    x = input(\"What is the price of \")\n",
    "    print(dict.get(x))\n",
    "    break\n"
   ]
  },
  {
   "cell_type": "code",
   "execution_count": null,
   "metadata": {},
   "outputs": [],
   "source": []
  },
  {
   "cell_type": "code",
   "execution_count": 18,
   "metadata": {},
   "outputs": [
    {
     "name": "stdout",
     "output_type": "stream",
     "text": [
      "Product name: foods\n",
      "Price: 600\n",
      "Product name: jilapi\n",
      "Price: 20\n",
      "Product name: done\n",
      "Show products that cost less than 600\n",
      "jilapi\n",
      "jilapi\n"
     ]
    }
   ],
   "source": [
    "#lecture-4.2 Using the dictionary created in the previous problem, allow the user to enter a dollar amount and print out all the products whose price is less than that amount.\n",
    "\n",
    "dict = {}\n",
    "\n",
    "while True:\n",
    "    x = input(\"Product name: \")\n",
    "    if x == \"done\":\n",
    "        break\n",
    "    y = int(input(\"Price: \"))\n",
    "    dict[x] = y\n",
    "\n",
    "y = int(input(\"Show products that cost less than \"))\n",
    "\n",
    "for x in dict:\n",
    "    if dict.get(x) < y:\n",
    "        print(x)\n",
    "\n",
    "\n",
    "\n",
    "\n"
   ]
  },
  {
   "cell_type": "code",
   "execution_count": 19,
   "metadata": {},
   "outputs": [
    {
     "name": "stdout",
     "output_type": "stream",
     "text": [
      "Enter User Name: A\n",
      "Enter Password: 1\n",
      "Login Successfull !!!\n",
      "Login Successfull !!!\n"
     ]
    }
   ],
   "source": [
    "#lecture-4(1)-3.Write a program that uses a dictionary that contains ten user names and passwords. The program should ask the user to enter their username and password. If the username is not in the dictionary, the program should indicate that the person is not a valid user of the system. If the username is in the dictionary, but the user does not enter the right password, the program should say that the password is invalid. If the password is correct, then the program should tell the user that they are now logged in to the system.\n",
    "\n",
    "dic={'A':1, 'B':2,'C':3}\n",
    "\n",
    "u_n=input('Enter User Name: ')\n",
    "p_w=input('Enter Password: ')\n",
    "p_w=int(p_w)\n",
    "               # string comparison isn't working.   have to type cast in int\n",
    "if u_n in dic:\n",
    "    if int(dic[u_n])==p_w:\n",
    "        print('Login Successfull !!!')\n",
    "    else:\n",
    "        print('Invalid Password...')\n",
    "else:\n",
    "    print('You are Not a valid User...')"
   ]
  },
  {
   "cell_type": "code",
   "execution_count": null,
   "metadata": {},
   "outputs": [],
   "source": []
  },
  {
   "cell_type": "code",
   "execution_count": 20,
   "metadata": {},
   "outputs": [
    {
     "name": "stdout",
     "output_type": "stream",
     "text": [
      "Cord types are : Minor, Augmented fifth, Minor fifth, Major sixth, Minor sixth\n",
      " \t\tDominant seventh, Minor seventh, Major seventh, Diminished seventh\n",
      "Cord types are : Minor, Augmented fifth, Minor fifth, Major sixth, Minor sixth\n",
      " \t\tDominant seventh, Minor seventh, Major seventh, Diminished seventh\n",
      "Enter Key: D\n",
      "Enter Cord Type: Minor\n",
      "D F A\n",
      "D F A\n"
     ]
    }
   ],
   "source": [
    "#lecture-4(1)-4.Below are the notes used in music: C C# D D# E F F# G G# A A# B The notes for the C major chord are C, E, G. A mathematical way to get this is that E is 4 steps past C and G is 7 steps past C. This works for any base. For example, the notes for D major are D, F#, A. We can represent the major chord steps as a list with two elements: [4,7] . The corresponding lists for some other chord types are shown below:\n",
    "# Minor [3,7]\n",
    "# Augmented fifth [4,8]\n",
    "# Minor fifth [4,6]\n",
    "# Major sixth [4,7,9]\n",
    "# Minor sixth [3,7,9]\n",
    "# Dominant seventh [4,7,10]\n",
    "# Minor seventh [3,7,10]\n",
    "# Major seventh [4,7,11]\n",
    "# Diminished seventh [3,6,10]\n",
    "#4.Write a program that asks the user for the key and the chord type and prints out the notes of the chord. Use a dictionary whose keys are the (musical) keys and whose values are the lists of steps.\n",
    "my_note=['C', 'C#', 'D', 'D#', 'E', 'F', 'F#', 'G', 'G#', 'A', 'A#', 'B']\n",
    "\n",
    "print('Cord types are : Minor, Augmented fifth, Minor fifth, Major sixth, Minor sixth\\n \\t\\tDominant seventh, Minor seventh, Major seventh, Diminished seventh')\n",
    "key=input('Enter Key: ')\n",
    "cord_type=input('Enter Cord Type: ')\n",
    "\n",
    "i=0\n",
    "while i<12:\n",
    "    if my_note[i]==key:\n",
    "        break\n",
    "    i=i+1\n",
    "\n",
    "if cord_type=='Minor':\n",
    "    print(my_note[i],my_note[i+3],my_note[(i+7)%11])\n",
    "elif cord_type=='Augmented fifth':\n",
    "    print(my_note[i],my_note[i+4],my_note[(i+8)%11])\n",
    "elif cord_type=='Minor fifth':\n",
    "    print(my_note[i],my_note[i+4],my_note[(i+6)%11])\n",
    "elif cord_type=='Major sixth':\n",
    "    print(my_note[i],my_note[i+4],my_note[(i+7)%11], my_note[(i+9)%11])\n",
    "elif cord_type=='Dominant seventh':\n",
    "    print(my_note[i],my_note[i+4],my_note[(i+7)%11], my_note[(i+10)%11])\n",
    "elif cord_type=='Minor seventh':\n",
    "    print(my_note[i],my_note[i+3],my_note[(i+7)%11], my_note[(i+10)%11])\n",
    "elif cord_type=='Major seventh':\n",
    "    print(my_note[i],my_note[i+4],my_note[(i+7)%11],my_note[(i+11)%11])\n",
    "elif cord_type=='Diminished seventh':\n",
    "    print(my_note[i],my_note[i+3],my_note[(i+6)%11], my_note[(i+10)%11])\n",
    "elif cord_type=='Minor sixth':\n",
    "    print(my_note[i],my_note[i+3],my_note[(i+7)%11], my_note[(i+9)%11])\n"
   ]
  },
  {
   "cell_type": "code",
   "execution_count": 21,
   "metadata": {},
   "outputs": [
    {
     "name": "stdout",
     "output_type": "stream",
     "text": [
      "Enter string with one * :q\n",
      "No Match\n",
      "No Match\n"
     ]
    }
   ],
   "source": [
    "#lecture-4(1)-5.Suppose you are given the following list of strings: \n",
    "#L = [ ' aabaabac ' , ' cabaabca ' , ' aaabbcba ' , ' aabacbab ' , ' acababba ' ]\n",
    "#Patterns like this show up in many places, including DNA sequencing. The user has a string of their own with only some letters filled in and the rest as asterisks. An example is aa** . The user would like to know which of the strings in the list fit with their pattern. In the example just given, the matching strings are the first and fourth. One way to solve this problem is to create a dictionary whose keys are the indices in the user’s string of the non-asterisk characters and whose values are those characters. Write a program implementing this approach (or some other approach) to find the strings that match a user-entered string.\n",
    "L = [ 'aabaabac' , 'cabaabca' , 'aaabbcba' , 'aabacbab' , 'acababba' ] \n",
    "\n",
    "s=input(\"Enter string with one * :\")\n",
    "\n",
    "i=0\n",
    "check=0\n",
    "while i<5:\n",
    "    check=0\n",
    "    m=0\n",
    "    if s[m]==L[i][m]:\n",
    "        check=1\n",
    "        m=m+1\n",
    "        while m<len(s)-1 and check==1:\n",
    "            if s[m]!=L[i][m]:\n",
    "                check=0\n",
    "        m=m+1\n",
    "    if check==1:\n",
    "        print(L[i])\n",
    "    i=i+1\n",
    "\n",
    "if check==0:\n",
    "    print('No Match')"
   ]
  },
  {
   "cell_type": "code",
   "execution_count": 22,
   "metadata": {},
   "outputs": [
    {
     "name": "stdout",
     "output_type": "stream",
     "text": [
      "All the users whose phone number ends in an 8\n",
      "{' name ': ' Helga ', ' phone ': ' 555-1618 ', ' email ': ' helga@mail.net '}\n",
      "{' name ': ' LJ ', ' phone ': ' 555-2718 ', ' email ': ' lj@mail.net '}\n",
      "\n",
      "All the users that don’t have an email address listed\n",
      "{' name ': ' Princess ', ' phone ': ' 555-3141 ', ' email ': ''}\n",
      "All the users whose phone number ends in an 8\n",
      "{' name ': ' Helga ', ' phone ': ' 555-1618 ', ' email ': ' helga@mail.net '}\n",
      "{' name ': ' LJ ', ' phone ': ' 555-2718 ', ' email ': ' lj@mail.net '}\n",
      "\n",
      "All the users that don’t have an email address listed\n",
      "{' name ': ' Princess ', ' phone ': ' 555-3141 ', ' email ': ''}\n"
     ]
    }
   ],
   "source": [
    "#lecture-4(1)-6.Dictionaries provide a convenient way to store structured data. Here is an example dictionary:\n",
    "#d=[{ ' name ' : ' Todd ' , ' phone ' : ' 555-1414 ' , ' email ' : ' todd@mail.net ' }, { ' name ' : ' Helga ' , ' phone ' : ' 555-1618 ' , ' email ' : ' helga@mail.net ' }, { ' name ' : ' Princess ' , ' phone ' : ' 555-3141 ' , ' email ' : '' }, { ' name ' : ' LJ ' , ' phone ' : ' 555-2718 ' , ' email ' : ' lj@mail.net ' }]\n",
    "#Write a program that reads through any dictionary like this and prints the following:\n",
    "#(a) All the users whose phone number ends in an 8\n",
    "#(b) All the users that don’t have an email address listed\n",
    "\n",
    "d=[{ ' name ' : ' Todd ' , ' phone ' : ' 555-1414 ' , ' email ' : ' todd@mail.net ' }, \n",
    "   { ' name ' : ' Helga ' , ' phone ' : ' 555-1618 ' , ' email ' : ' helga@mail.net ' }, \n",
    "   { ' name ' : ' Princess ' , ' phone ' : ' 555-3141 ' , ' email ' : '' }, \n",
    "   { ' name ' : ' LJ ' , ' phone ' : ' 555-2718 ' , ' email ' : ' lj@mail.net ' }]\n",
    "#print(d[2][' email '])\n",
    "#a=''\n",
    "#print(len(a))\n",
    "\n",
    "print('All the users whose phone number ends in an 8')\n",
    "i=0\n",
    "for a in d:\n",
    "    n=d[i][' phone ']\n",
    "    if n[-2]=='8':\n",
    "        print(d[i])\n",
    "    i=i+1\n",
    "\n",
    "print('\\nAll the users that don’t have an email address listed')\n",
    "i=0\n",
    "for a in d:\n",
    "    n=d[i][' email ']\n",
    "    if len(n)==0:\n",
    "        print(d[i])\n",
    "    i=i+1"
   ]
  },
  {
   "cell_type": "code",
   "execution_count": 23,
   "metadata": {},
   "outputs": [
    {
     "name": "stdout",
     "output_type": "stream",
     "text": [
      "2\n",
      "2\n"
     ]
    }
   ],
   "source": [
    "#lecture-4(1)-7. The keys in a dictionary are guaranteed to be unique, but the values are not. Write a function called count_values that takes a single dictionary as an argument and returns the number of dis- tinct values it contains. Given the input {’red’:1, ’green’:1, ’blue’:2} , for example, it would return 2.\n",
    "\n",
    "d = {'red' : '1', 'blue' : '1', 'green' : '2'}\n",
    "\n",
    "def count_values(**d):\n",
    "    myList = []\n",
    "    for x in d:\n",
    "        myList.append(d.get(x))\n",
    "    myList.sort()\n",
    "    y = 1\n",
    "    x = 0\n",
    "    while x < len(myList)-1:\n",
    "        if myList[x+1] != myList[x]:\n",
    "            y+=1\n",
    "        x+=1\n",
    "    print(y)\n",
    "\n",
    "count_values(**d)\n"
   ]
  },
  {
   "cell_type": "code",
   "execution_count": 24,
   "metadata": {},
   "outputs": [
    {
     "name": "stdout",
     "output_type": "stream",
     "text": [
      "Enter a string: hello\n",
      "h\n",
      "\n",
      "e\n",
      "\n",
      "l\n",
      "\n",
      "l\n",
      "\n",
      "o\n",
      "\n",
      "h\n",
      "\n",
      "e\n",
      "\n",
      "l\n",
      "\n",
      "l\n",
      "\n",
      "o\n",
      "\n"
     ]
    }
   ],
   "source": [
    "#lecture-5-1. Write a program that uses a while loop (not a for loop) to read through a string and print the characters of the string one-by-one on separate lines.\n",
    "\n",
    "str = input(\"Enter a string: \")\n",
    "i = 0\n",
    "while(i < len(str)):\n",
    "    print(\"{}\\n\".format(str[i]))\n",
    "    i+=1\n"
   ]
  },
  {
   "cell_type": "code",
   "execution_count": 25,
   "metadata": {},
   "outputs": [
    {
     "name": "stdout",
     "output_type": "stream",
     "text": [
      "Enter a string: hello\n",
      "e\n",
      "\n",
      "l\n",
      "\n",
      "e\n",
      "\n",
      "l\n",
      "\n"
     ]
    }
   ],
   "source": [
    "#lecture5.2. Modify the program above to print out every second character of the string.\n",
    "\n",
    "str = input(\"Enter a string: \")\n",
    "i = 0\n",
    "while(i < len(str)):\n",
    "    if (i+1) % 2 == 0:\n",
    "        print(\"{}\\n\".format(str[i]))\n",
    "    i+=1\n",
    "\n",
    "\n",
    "\n",
    "\n",
    "\n",
    "\n"
   ]
  },
  {
   "cell_type": "code",
   "execution_count": 26,
   "metadata": {},
   "outputs": [
    {
     "name": "stdout",
     "output_type": "stream",
     "text": [
      "Enter a password: rtx2080ti\n",
      "You are logged in\n",
      "You are logged in\n"
     ]
    }
   ],
   "source": [
    "\n",
    "\n",
    "#lecture-5.3. Write a program that asks the user to enter a password. If the user enters the right password, the program should tell them they are logged in to the system. Otherwise, the program should ask them to reenter the password. The user should only get five tries to enter the password, after which point the program should tell them that they are kicked off of the system.\n",
    "\n",
    "password = \"rtx2080ti\"\n",
    "for x in range(7):\n",
    "    if x == 0:\n",
    "        str = input(\"Enter a password: \")\n",
    "    else:\n",
    "        str = input(\"Re-enter your password: \")\n",
    "    if str == password:\n",
    "        print(\"You are logged in\")\n",
    "        break\n",
    "    else:\n",
    "        if 5 - x >= 0:\n",
    "            print(\"You have {} tries left\".format(5-x))\n",
    "if x == 6:\n",
    "    print(\"You have been kicked out of the system\")\n",
    "\n",
    "\n",
    "\n"
   ]
  },
  {
   "cell_type": "code",
   "execution_count": null,
   "metadata": {},
   "outputs": [
    {
     "name": "stdout",
     "output_type": "stream",
     "text": [
      "Enter a String: moitry\n",
      "Enter a Letter: o\n",
      "\n",
      "First occurrence of o is found at index: 1 \n",
      "\n",
      "Enter a String: moitry\n",
      "Enter a Letter: i\n",
      "\n",
      "First occurrence of i is found at index: 2 \n",
      "\n",
      "Enter a String: t\n",
      "Enter a Letter: r\n",
      "\n",
      "The String does not contain the Letter\n",
      "\n"
     ]
    }
   ],
   "source": [
    "\n",
    "\n",
    "#lecture-5.4. Recall that, given a string s , s.index( ' x ' ) returns the index of the first x in s and an error if there is no x.\n",
    "#(a) Write a program that asks the user for a string and a letter. Using a while loop, the program should print the index of the first occurrence of that letter and a message if the string does not contain the letter.\n",
    "\n",
    "index = 0 \n",
    "while index>=0:\n",
    "    s = input(\"Enter a String: \")\n",
    "    letter = input(\"Enter a Letter: \") \n",
    "    if letter in s: \n",
    "        find = s.index(letter) \n",
    "        print (\"\\nFirst occurrence of\",letter,\"is found at index:\",find,\"\\n\" )\n",
    "    else: \n",
    "        print (\"\\nThe String does not contain the Letter\\n\") \n",
    "    index = index + 1"
   ]
  },
  {
   "cell_type": "code",
   "execution_count": null,
   "metadata": {},
   "outputs": [],
   "source": []
  },
  {
   "cell_type": "code",
   "execution_count": 1,
   "metadata": {},
   "outputs": [
    {
     "name": "stdout",
     "output_type": "stream",
     "text": [
      "Enter a String: hello\n",
      "Enter a Letter: e\n",
      "\n",
      "First occurrence of e is found at index: 1 \n",
      "\n",
      "\n",
      "First occurrence of e is found at index: 1 \n",
      "\n"
     ]
    }
   ],
   "source": [
    "#lecture-5.4-(b) Write the above program using a for/break loop instead of a while loop.\n",
    "s = input(\"Enter a String: \") \n",
    "letter = input(\"Enter a Letter: \")\n",
    "for i in range(1): \n",
    "    if letter in s:\n",
    "        find = s.index(letter) \n",
    "        print (\"\\nFirst occurrence of\",letter,\"is found at index:\",find,\"\\n\") \n",
    "        break \n",
    "    else: \n",
    "        print (\"\\nThe String does not contain the Letter\\n\")\n",
    "\n"
   ]
  },
  {
   "cell_type": "code",
   "execution_count": 5,
   "metadata": {},
   "outputs": [
    {
     "name": "stdout",
     "output_type": "stream",
     "text": [
      "Enter a number 18\n",
      "Enter a number 42\n",
      "the GED of 18 and 42 is 6\n",
      "the GED of 18 and 42 is 6\n"
     ]
    }
   ],
   "source": [
    "#lecture-5.5.The GCD (greatest common divisor) of two numbers is the largest number that both are di-visible by. For instance, gcd (18, 42) is 6 because the largest number that both 18 and 42 are divisible by is 6. Write a program that asks the user for two numbers and computes their gcd. Shown below is a way to compute the GCD, called Euclid’s Algorithm.\n",
    "#• First compute the remainder of dividing the larger number by the smaller number\n",
    "#• Next, replace the larger number with the smaller number and the smaller number with the remainder.\n",
    "#• Repeat this process until the smaller number is 0. The GCD is the last value of the larger number.\n",
    "\n",
    "num1=input('Enter a number ')\n",
    "num1=int(num1)\n",
    "num2=input('Enter a number ')\n",
    "num2=int(num2)\n",
    "\n",
    "if num1>num2:\n",
    "    big=num1\n",
    "    small=num2\n",
    "else:\n",
    "    big=num2\n",
    "    small=num1\n",
    "\n",
    "remainder=big%small\n",
    "big=small\n",
    "small=remainder\n",
    "while small!=0:\n",
    "    remainder=big%small\n",
    "    big=small\n",
    "    small=remainder\n",
    "print('the GED of',num1,'and',num2,'is',big)"
   ]
  },
  {
   "cell_type": "code",
   "execution_count": 6,
   "metadata": {},
   "outputs": [
    {
     "name": "stdout",
     "output_type": "stream",
     "text": [
      "10\n",
      "3.16\n",
      "3.16\n"
     ]
    }
   ],
   "source": [
    "#lecture-5.6.A 4000-year old method to compute the square root of 5 is as follows: Start with an initial guess, say 1. Then compute(1 + 5/1 )/2 = 3Next, take that 3 and replace the 1’s in the previous formula with 3’s . This gives(3 + 5/3 )/2 = 7/3 = 2.33Next replace the 3 in the previous formula with 7/3 . This gives(7/3 + 5/(7/3) )/2 = 47/22 = 2.24If you keep doing this process of computing the formula, getting a result, and plugging it back in, the values will eventually get closer and closer to 5 . This method works for numbers other than 5. Write a program that asks the user for a number and uses this method to estimate the square root of the number correct to within 10^( −10) . The estimate will be correct to within 10^( −10) when the absolute value of the difference between consecutive values is less than 10^(−10) .\n",
    "\n",
    "num = int(input())\n",
    "i = 1\n",
    "while i >= 0:\n",
    "    x = i\n",
    "    i = (i + num/i)/2\n",
    "    if x == i:\n",
    "        break\n",
    "print(\"%.2f\"%i)\n"
   ]
  },
  {
   "cell_type": "code",
   "execution_count": 10,
   "metadata": {},
   "outputs": [
    {
     "name": "stdout",
     "output_type": "stream",
     "text": [
      "Initial List  [[0, 0, 0, 0, 0], [0, 0, 0, 0, 0], [0, 0, 0, 0, 0], [0, 0, 0, 0, 0], [0, 0, 0, 0, 0]]\n",
      "List with 10 random 1's  [[0, 1, 1, 0, 1], [0, 0, 0, 0, 0], [1, 0, 1, 0, 0], [1, 1, 0, 0, 0], [0, 1, 1, 0, 1]]\n",
      "Initial List  [[0, 0, 0, 0, 0], [0, 0, 0, 0, 0], [0, 0, 0, 0, 0], [0, 0, 0, 0, 0], [0, 0, 0, 0, 0]]\n",
      "List with 10 random 1's  [[0, 1, 1, 0, 1], [0, 0, 0, 0, 0], [1, 0, 1, 0, 0], [1, 1, 0, 0, 0], [0, 1, 1, 0, 1]]\n"
     ]
    }
   ],
   "source": [
    "#lecture-5.7. Write a program that starts with an 5 × 5 list of zeroes and randomly changes exactly ten of those zeroes to ones.\n",
    "\n",
    "mylist=[[0,0,0,0,0],[0,0,0,0,0],[0,0,0,0,0],[0,0,0,0,0],[0,0,0,0,0]]\n",
    "print('Initial List ',mylist)\n",
    "count=1\n",
    "\n",
    "while count<=10:\n",
    "    import random\n",
    "    z=random.randint(0,4)\n",
    "    y=random.randint(0,4)\n",
    "    if mylist[y][z]==0:\n",
    "        mylist[y][z]=1\n",
    "        count=count+1\n",
    "\n",
    "print(\"List with 10 random 1's \",mylist)"
   ]
  },
  {
   "cell_type": "code",
   "execution_count": null,
   "metadata": {},
   "outputs": [],
   "source": []
  },
  {
   "cell_type": "code",
   "execution_count": 12,
   "metadata": {},
   "outputs": [
    {
     "name": "stdout",
     "output_type": "stream",
     "text": [
      "Enter int contain 0 or 1 0\n",
      "Enter int contain 0 or 1 1\n",
      "Enter int contain 0 or 1 0\n",
      "Enter int contain 0 or 1 1\n",
      "Enter int contain 0 or 1 0\n",
      "Enter int contain 0 or 1 1\n",
      "Enter int contain 0 or 1 0\n",
      "Input List [0, 1, 0, 1, 0, 1, 0]\n",
      "Output List [0, 1, 0, 1, 0, 1, 0]\n",
      "Input List [0, 1, 0, 1, 0, 1, 0]\n",
      "Output List [0, 1, 0, 1, 0, 1, 0]\n"
     ]
    }
   ],
   "source": [
    "#lecture-5.8.Write a program in which you have a list that contains seven integers that can be 0 or 1. Find the first nonzero entry in the list and change it to a 1. If there are no nonzero entries, print a message saying so.\n",
    "my_list=[0]*7 #creating List of seven intigers\n",
    "\n",
    "count=0\n",
    "while count<7:\n",
    "    my_list[count]=input('Enter int contain 0 or 1 ')\n",
    "    my_list[count]=int(my_list[count])\n",
    "    count=count+1\n",
    "print('Input List',my_list)\n",
    "\n",
    "count=0\n",
    "check=0\n",
    "while count<7 and check==0:\n",
    "    if my_list[count]!=0:\n",
    "        my_list[count]=1\n",
    "        check=1    #finding first non zero int\n",
    "    count=count+1\n",
    "\n",
    "if check==1:\n",
    "    print('Output List',my_list)\n",
    "else:\n",
    "    print('No Non Zero int in the List')"
   ]
  },
  {
   "cell_type": "code",
   "execution_count": null,
   "metadata": {},
   "outputs": [],
   "source": []
  },
  {
   "cell_type": "code",
   "execution_count": 13,
   "metadata": {},
   "outputs": [
    {
     "name": "stdout",
     "output_type": "stream",
     "text": [
      "Starts with $25 and wins when $50\n",
      "Starts with $25 and wins when $50\n",
      "write \"H\" for head or \"T\" for tail H\n",
      "Wrong Guess... New Balance 15\n",
      "Wrong Guess... New Balance 15\n",
      "write \"H\" for head or \"T\" for tail T\n",
      "Right Guess!!! New Balance 24\n",
      "Right Guess!!! New Balance 24\n",
      "write \"H\" for head or \"T\" for tail T\n",
      "Right Guess!!! New Balance 33\n",
      "Right Guess!!! New Balance 33\n",
      "write \"H\" for head or \"T\" for tail H\n",
      "Right Guess!!! New Balance 42\n",
      "Right Guess!!! New Balance 42\n",
      "write \"H\" for head or \"T\" for tail H\n",
      "Right Guess!!! New Balance 51\n",
      "Congrats!!!\n",
      "Right Guess!!! New Balance 51\n",
      "Congrats!!!\n"
     ]
    }
   ],
   "source": [
    "#letre-5.9.Write a program to play the following simple game. The player starts with \\$100. On each turn a coin is flipped and the player has to guess heads or tails. The player wins \\$9 for each correct guess and loses \\$10 for each incorrect guess. The game ends either when the player runs out of money or gets to \\$200.\n",
    "balance=25  #100\n",
    "\n",
    "def Guess(ans,my_balance):\n",
    "    import random\n",
    "    z=random.randint(0,1)\n",
    "    if ans==z:\n",
    "        my_balance=my_balance+9\n",
    "        print('Right Guess!!! New Balance',my_balance)\n",
    "    else:\n",
    "        my_balance=my_balance-10\n",
    "        print('Wrong Guess... New Balance',my_balance)\n",
    "    return my_balance\n",
    "\n",
    "print('Starts with $25 and wins when $50')\n",
    "while balance>0 and balance<50:  #balance<200\n",
    "    s=input('write \"H\" for head or \"T\" for tail ')\n",
    "    if s=='H':\n",
    "        check=Guess(0,balance)  # 0 for head\n",
    "    elif s=='T':\n",
    "        check=Guess(1,balance)  # 1 for tail\n",
    "    balance=check\n",
    "\n",
    "if balance>=50:          #200\n",
    "    print('Congrats!!!')\n",
    "else:\n",
    "    print('Better Luck Next time...')"
   ]
  },
  {
   "cell_type": "code",
   "execution_count": 14,
   "metadata": {},
   "outputs": [
    {
     "name": "stdout",
     "output_type": "stream",
     "text": [
      "List with 12 1\"s  [[1, 1, 0, 0, 0, 0], [1, 0, 0, 1, 0, 0], [0, 0, 0, 1, 0, 1], [1, 1, 0, 0, 0, 0], [0, 0, 1, 0, 1, 0], [0, 1, 0, 1, 0, 0]]\n",
      "List with 12 1\"s  [[1, 1, 0, 0, 0, 0], [1, 0, 0, 1, 0, 0], [0, 0, 0, 1, 0, 1], [1, 1, 0, 0, 0, 0], [0, 0, 1, 0, 1, 0], [0, 1, 0, 1, 0, 0]]\n"
     ]
    }
   ],
   "source": [
    "#lecture-5.10.Randomly generate a 6 × 6 list that has exactly 12 ones placed in random locations in the list. The rest of the entries should be zeroes.\n",
    "my_list= [[0,0,0,0,0,0], [0,0,0,0,0,0], [0,0,0,0,0,0], [0,0,0,0,0,0], [0,0,0,0,0,0], [0,0,0,0,0,0]]\n",
    "count=1\n",
    "\n",
    "while count<=12:\n",
    "    import random\n",
    "    z=random.randint(0,5)\n",
    "    y=random.randint(0,5)\n",
    "    if my_list[y][z]==0:\n",
    "        my_list[y][z]=1\n",
    "        count=count+1\n",
    "print('List with 12 1\"s ',my_list)"
   ]
  },
  {
   "cell_type": "code",
   "execution_count": null,
   "metadata": {},
   "outputs": [],
   "source": []
  },
  {
   "cell_type": "code",
   "execution_count": null,
   "metadata": {},
   "outputs": [],
   "source": []
  },
  {
   "cell_type": "code",
   "execution_count": 16,
   "metadata": {},
   "outputs": [
    {
     "name": "stdout",
     "output_type": "stream",
     "text": [
      "[[0, 0, 0, 0, 0, 0, 0, 0, 0], [0, 0, 0, 0, 0, 0, 0, 0, 0], [0, 0, 0, 0, 0, 0, 0, 0, 0], [0, 0, 0, 0, 0, 0, 0, 0, 0], [0, 0, 0, 0, 0, 0, 0, 0, 0], [0, 0, 0, 0, 0, 0, 0, 0, 0], [0, 0, 0, 0, 0, 0, 0, 0, 0], [0, 0, 0, 0, 0, 0, 0, 0, 0], [0, 0, 0, 0, 0, 0, 0, 0, 0]]\n",
      "[[0, 0, 0, 0, 0, 0, 0, 0, 0], [0, 0, 0, 0, 0, 0, 0, 0, 0], [0, 0, 0, 0, 0, 0, 0, 0, 0], [0, 0, 0, 0, 0, 0, 0, 0, 0], [0, 0, 0, 0, 0, 0, 0, 0, 0], [0, 0, 0, 0, 0, 0, 0, 0, 0], [0, 0, 0, 0, 0, 0, 0, 0, 0], [0, 0, 0, 0, 0, 0, 0, 0, 0], [0, 0, 0, 0, 0, 0, 0, 0, 0]]\n"
     ]
    }
   ],
   "source": [
    "#lecture-5.11.Randomly generate a 9 × 9 list where the entries are integers between 1 and 9 with no repeat entries in any row or in any column.\n",
    "my_list=[[0]*9, [0]*9, [0]*9, [0]*9, [0]*9, [0]*9, [0]*9, [0]*9, [0]*9]\n",
    "\n",
    "print(my_list)"
   ]
  },
  {
   "cell_type": "code",
   "execution_count": null,
   "metadata": {},
   "outputs": [],
   "source": []
  }
 ],
 "metadata": {
  "kernelspec": {
   "display_name": "Python 3",
   "language": "python",
   "name": "python3"
  },
  "language_info": {
   "codemirror_mode": {
    "name": "ipython",
    "version": 3
   },
   "file_extension": ".py",
   "mimetype": "text/x-python",
   "name": "python",
   "nbconvert_exporter": "python",
   "pygments_lexer": "ipython3",
   "version": "3.7.1"
  }
 },
 "nbformat": 4,
 "nbformat_minor": 2
}
